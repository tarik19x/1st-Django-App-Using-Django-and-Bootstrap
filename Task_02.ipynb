{
  "nbformat": 4,
  "nbformat_minor": 0,
  "metadata": {
    "colab": {
      "name": "Task#02.ipynb",
      "provenance": [],
      "collapsed_sections": [],
      "include_colab_link": true
    },
    "kernelspec": {
      "name": "python3",
      "display_name": "Python 3"
    },
    "language_info": {
      "name": "python"
    }
  },
  "cells": [
    {
      "cell_type": "markdown",
      "metadata": {
        "id": "view-in-github",
        "colab_type": "text"
      },
      "source": [
        "<a href=\"https://colab.research.google.com/github/tarik19x/1st-Django-App-Using-Django-and-Bootstrap/blob/master/Task_02.ipynb\" target=\"_parent\"><img src=\"https://colab.research.google.com/assets/colab-badge.svg\" alt=\"Open In Colab\"/></a>"
      ]
    },
    {
      "cell_type": "markdown",
      "metadata": {
        "id": "NpKFZAtCGZWM"
      },
      "source": [
        "#$$\\color{black}{\\textbf{Reg.No: 2017331019} }$$"
      ]
    },
    {
      "cell_type": "markdown",
      "metadata": {
        "id": "ru2YahIF7Y19"
      },
      "source": [
        "<br>\n",
        "\n",
        "# **$$\\color{red}{\\text{A program  to  simulate the digital-digital conversion techniques}}$$**\n",
        "\n",
        "# **A program to simulate the digital-digital conversion techniques**\n",
        "## **(Line Coding and Decoding, Block Coding and Decoding Schemes)**\n",
        "\n",
        "\n",
        "<br>\n",
        "\n"
      ]
    },
    {
      "cell_type": "markdown",
      "metadata": {
        "id": "pohHqDsL781n"
      },
      "source": [
        "<br>\n",
        "<br>\n",
        "\n",
        "##$$\\color{green}{\\textbf{Line \"\\\" Coding and Decoding} }$$\n",
        "<br>\n",
        "\n",
        "**Line coding** converts a sequence of bits to a digital signal. At the sender, digital data are encoded into a digital signal; at the receiver, the digital data are recreated by decoding the digital signal. We can roughly divide line coding schemes into five broad categories\n",
        "\n",
        "\n",
        "1.   **Unipolar**\n",
        "2.   **Polar**\n",
        "3.   **Bipolar**\n",
        "4.   **Multilevel**\n",
        "5.   **Multitransition**\n",
        "<br>\n",
        "$$ \\textbf{Polar NRZ-L and NRZ-I Schemes} $$\n",
        "\n",
        "\n",
        "In polar NRZ encoding, we use two levels of voltage amplitude. We can have two ver\u0002sions of polar NRZ: NRZ-L and NRZ-I, as shown in Figure 4.6. The figure also shows the value of r, the average baud rate, and the bandwidth. In the first variation, **NRZ-L (NRZ-Level)**, the level of the voltage determines the value of the bit. In the second variation, **NRZ-I (NRZ-Invert)**, the change or lack of change in the level of the voltage determines the value of the bit. If there is no change, the bit is 0; if there is a change, the\n",
        "bit is 1.\n",
        "<br>\n",
        "<br>\n"
      ]
    },
    {
      "cell_type": "code",
      "metadata": {
        "id": "SwJx1fAhA1zv"
      },
      "source": [
        "# Regi.No: 2017331019\n",
        "import matplotlib.pyplot as plt\n",
        "import numpy as np"
      ],
      "execution_count": null,
      "outputs": []
    },
    {
      "cell_type": "markdown",
      "metadata": {
        "id": "1v03DqOyAQb7"
      },
      "source": [
        "<br>\n",
        "\n",
        "$$\\color{#9A020B}{\\textbf{NRZ-L Encoding } }$$"
      ]
    },
    {
      "cell_type": "code",
      "metadata": {
        "id": "bufF4YMT-8CR"
      },
      "source": [
        "# NRZ-L Encoding \n",
        "def polar_nrz_l_encoding_scheme(input_signal):\n",
        "    input_signal_1=list(input_signal)\n",
        "    input_signal_1=[-1 if i==0 else 1 for i in input_signal_1]\n",
        "    return list(input_signal_1)"
      ],
      "execution_count": null,
      "outputs": []
    },
    {
      "cell_type": "code",
      "metadata": {
        "colab": {
          "base_uri": "https://localhost:8080/",
          "height": 295
        },
        "id": "BRXWhYZb_Pz3",
        "outputId": "7804dfb1-daa8-43f9-9649-0e1f99226a13"
      },
      "source": [
        "encoded_bits = polar_nrz_l_encoding_scheme([0,1,0,1,0,1,0,0,0,1,0,1,1,0,1])\n",
        "plt.figure(figsize=(15,4))\n",
        "plt.plot(encoded_bits,drawstyle='steps-pre')\n",
        "plt.xlabel(\"Time\")\n",
        "plt.ylabel(\"Amplitude\")\n",
        "plt.title(\"Polar NRZ-L\")\n",
        "plt.show()"
      ],
      "execution_count": null,
      "outputs": [
        {
          "output_type": "display_data",
          "data": {
            "image/png": "[encoded data removed]",
            "text/plain": [
              "<Figure size 1080x288 with 1 Axes>"
            ]
          },
          "metadata": {
            "needs_background": "light"
          }
        }
      ]
    },
    {
      "cell_type": "markdown",
      "metadata": {
        "id": "GXYxvAgpBj61"
      },
      "source": [
        "<br>\n",
        "\n",
        "$$\\color{#9A020B}{\\textbf{NRZ-L Decoding } }$$"
      ]
    },
    {
      "cell_type": "code",
      "metadata": {
        "colab": {
          "base_uri": "https://localhost:8080/"
        },
        "id": "nhr0KoYc0726",
        "outputId": "5a475632-b4c8-49d4-c256-c03432637313"
      },
      "source": [
        "decoded_bits=encoded_bits\n",
        "decoded_bits=[0 if i==-1 else 1 for i in decoded_bits]\n",
        "print(\"NRZ-L decoded bits :\",decoded_bits)"
      ],
      "execution_count": null,
      "outputs": [
        {
          "output_type": "stream",
          "name": "stdout",
          "text": [
            "NRZ-L decoded bits : [0, 1, 0, 1, 0, 1, 0, 0, 0, 1, 0, 1, 1, 0, 1]\n"
          ]
        }
      ]
    },
    {
      "cell_type": "markdown",
      "metadata": {
        "id": "1SUJS70ZEi2u"
      },
      "source": [
        "<br>\n",
        "<br>\n",
        "<br>\n",
        "\n",
        "$$\\color{#9A020B}{\\textbf{NRZ-I Encoding } }$$\n",
        "\n",
        "\n",
        "\n",
        "*   **No inversion: Next bit is 0**\n",
        "*   **Inversion: Next bit is 1**\n",
        "\n"
      ]
    },
    {
      "cell_type": "code",
      "metadata": {
        "id": "Ya6ZXPHWEnV2"
      },
      "source": [
        "bits = np.array([0,0,1,0,1,0,1,1,1,0,1,0,0,1,1])   \n",
        "N = len(bits)   \n",
        "input_signal = np.array([])\n",
        "last_bit = 1\n",
        "for i in range(N):\n",
        "  if bits[i] == 1:\n",
        "    temp = (-1) * last_bit\n",
        "    last_bit = -last_bit\n",
        "  else:\n",
        "    temp = last_bit\n",
        "  input_signal = np.append(input_signal,temp)\n",
        "time = np.arange(0,len(input_signal),1)"
      ],
      "execution_count": null,
      "outputs": []
    },
    {
      "cell_type": "code",
      "metadata": {
        "colab": {
          "base_uri": "https://localhost:8080/",
          "height": 295
        },
        "id": "MxUbE7K9FahA",
        "outputId": "0d4535f9-f697-493a-b958-a17981c865a0"
      },
      "source": [
        "plt.figure(figsize=(20,4))\n",
        "plt.plot(time,input_signal,drawstyle='steps-pre')\n",
        "plt.axis([-1,16,-1.2,1.2])\n",
        "plt.xlabel(\"Time\")\n",
        "plt.ylabel(\"Amplitude\")\n",
        "plt.title(\"Polar NRZ-I\")\n",
        "plt.show()\n",
        "#[0,0,1,0,1,0,1,0,1,1,1,0,0,1,1]"
      ],
      "execution_count": null,
      "outputs": [
        {
          "output_type": "display_data",
          "data": {
            "image/png": "[encoded data removed]",
            "text/plain": [
              "<Figure size 1440x288 with 1 Axes>"
            ]
          },
          "metadata": {
            "needs_background": "light"
          }
        }
      ]
    },
    {
      "cell_type": "markdown",
      "metadata": {
        "id": "cQFgiUDdMKVR"
      },
      "source": [
        "<br>\n",
        "\n",
        "$$\\color{#9A020B}{\\textbf{NRZ-I Decoding } }$$"
      ]
    },
    {
      "cell_type": "code",
      "metadata": {
        "colab": {
          "base_uri": "https://localhost:8080/"
        },
        "id": "D5VmO17zLhEk",
        "outputId": "bdc3e255-0459-47e6-a9a0-1de4883803de"
      },
      "source": [
        "# NRZ-I Decoding \n",
        "decoded_singal_bit = []\n",
        "counter = 0\n",
        "last_bit = 1\n",
        "for i in range(len(input_signal)):\n",
        "  if time[i] >= counter:\n",
        "    counter = counter + 1\n",
        "    if input_signal[i] != last_bit:\n",
        "      decoded_singal_bit.append(1)\n",
        "      last_bit=-last_bit\n",
        "    else:\n",
        "      decoded_singal_bit.append(0)\n",
        "print(decoded_singal_bit)"
      ],
      "execution_count": null,
      "outputs": [
        {
          "output_type": "stream",
          "name": "stdout",
          "text": [
            "[0, 0, 1, 0, 1, 0, 1, 1, 1, 0, 1, 0, 0, 1, 1]\n"
          ]
        }
      ]
    },
    {
      "cell_type": "markdown",
      "metadata": {
        "id": "a7AbQ7vOMVat"
      },
      "source": [
        "<br>\n",
        "<br>\n",
        "\n",
        "##$$\\color{green}{\\textbf{Block Coding and Decoding} }$$\n",
        "<br>\n",
        "\n",
        "**Block coding** changes a block of m bits into a block of n bits, where n is larger than m. Block coding is referred to as an **mB/nB** encoding technique. it replaces each m-bit group with an n-bit group. It helps in error detection and re-transmission of the signal. It is normally referred to as mB/nB coding as it replaces each m-bit data group with an n-bit data group (where n>m). Thus, its adds extra bits (redundancy bits) which helps in synchronization at receiver’s and sender’s end and also providing some kind of error detecting capability\n",
        "\n",
        "<br>\n",
        "\n",
        "$$\\color{#9A020B}{\\textbf{4B/5B Block Coding and Decoding } }$$\n",
        "\n",
        "The **four binary/five binary (4B/5B)** coding scheme was designed to be used in com\u0002bination with NRZ-I. Recall that NRZ-I has a good signal rate, one-half that of the\n",
        "biphase, but it has a synchronization problem. A long sequence of 0s can make the\n",
        "receiver clock lose synchronization. One solution is to change the bit stream, prior to\n",
        "encoding with NRZ-I, so that it does not have a long stream of 0s. The 4B/5B scheme\n",
        "achieves this goal. The block-coded stream does not have more that three consecutive\n",
        "0s, as we will see later. At the receiver, the NRZ-I encoded digital signal is first\n",
        "decoded into a stream of bits and then decoded to remove the redundancy. Figure 4.15\n",
        "shows the idea.\n",
        "\n",
        "<br>\n",
        "<br>\n"
      ]
    },
    {
      "cell_type": "markdown",
      "metadata": {
        "id": "mY8kmG1MNsPa"
      },
      "source": [
        "<br>\n",
        "\n",
        "$$\\color{#9A020B}{\\textbf{4B/5B Encoding} }$$\n",
        "<br>\n"
      ]
    },
    {
      "cell_type": "code",
      "metadata": {
        "id": "-q-rhokiN-W4"
      },
      "source": [
        "encoding_maps = {\n",
        "\"0000\": \"01010\",\n",
        "\"0001\": \"10010\",\n",
        "\"0010\": \"10100\",\n",
        "\"0011\": \"10101\",\n",
        "\"0100\": \"11110\",\n",
        "\"0101\": \"01011\",\n",
        "\"0110\": \"01110\",\n",
        "\"0111\": \"01111\",\n",
        "\"1000\": \"01001\",\n",
        "\"1001\": \"10011\",\n",
        "\"1010\": \"10110\",\n",
        "\"1011\": \"10111\",\n",
        "\"1100\": \"11010\",\n",
        "\"1101\": \"11011\",\n",
        "\"1110\": \"11100\",\n",
        "\"1111\": \"11101\",\n",
        "}\n",
        "decoding_maps = {\n",
        "\"11110\": \"0000\",\n",
        "\"01001\": \"0001\",\n",
        "\"10100\": \"0010\",\n",
        "\"10101\": \"0011\",\n",
        "\"01010\": \"0100\",\n",
        "\"01011\": \"0101\",\n",
        "\"01110\": \"0110\",\n",
        "\"01111\": \"0111\",\n",
        "\"10010\": \"1000\",\n",
        "\"10011\": \"1001\",\n",
        "\"10110\": \"1010\",\n",
        "\"10111\": \"1011\",\n",
        "\"11010\": \"1100\",\n",
        "\"11011\": \"1101\",\n",
        "\"11100\": \"1110\",\n",
        "\"11101\": \"1111\",\n",
        "}\n"
      ],
      "execution_count": null,
      "outputs": []
    },
    {
      "cell_type": "code",
      "metadata": {
        "id": "8uyBzDBjOjqj"
      },
      "source": [
        "mB = 4\n",
        "nB = 5\n",
        "bits = np.array([0,1,1,0,1,0,0,1,0,1,1,0,0,0,1,0,1,0,0,1,0,0,1])"
      ],
      "execution_count": null,
      "outputs": []
    },
    {
      "cell_type": "code",
      "metadata": {
        "colab": {
          "base_uri": "https://localhost:8080/"
        },
        "id": "6SEXu9xcO3Eh",
        "outputId": "8c6d4c73-f8af-406a-af06-21ba50628fe7"
      },
      "source": [
        "if len(bits)%mB != 0:\n",
        "  extra_zeros = np.array(np.zeros(mB-len(bits)%mB),dtype=int)\n",
        "  bits = np.append(bits,extra_zeros)\n",
        "\n",
        "encoded_bits = \"\"\n",
        "for i in range(0, len(bits), mB):\n",
        "  encoded_bits += encoding_maps.get(\"\".join(map(str,bits[i:i+mB])))\n",
        "\n",
        "\n",
        "encoded_bits = np.array(list(encoded_bits),dtype=int)\n",
        "print(encoded_bits)"
      ],
      "execution_count": null,
      "outputs": [
        {
          "output_type": "stream",
          "name": "stdout",
          "text": [
            "[0 1 1 1 0 1 0 0 1 1 0 1 1 1 0 1 0 1 0 0 1 0 0 1 1 1 0 1 0 0]\n"
          ]
        }
      ]
    },
    {
      "cell_type": "markdown",
      "metadata": {
        "id": "F74zJLUFPgBa"
      },
      "source": [
        "<br>\n",
        "\n",
        "$$\\color{#9A020B}{\\textbf{4B/5B Decoding} }$$\n",
        "<br>\n"
      ]
    },
    {
      "cell_type": "code",
      "metadata": {
        "colab": {
          "base_uri": "https://localhost:8080/"
        },
        "id": "2Bm1a20APiId",
        "outputId": "40dd5d35-b8eb-47bb-90ac-6724a250900a"
      },
      "source": [
        "bits = encoded_bits\n",
        "decoded_bits = \"\"\n",
        "if len(bits)%nB !=0:\n",
        "  print(\"There is an error in receiving code blocks\")\n",
        "for i in range(0, len(bits), nB):\n",
        "  decoded_bits+= decoding_maps.get(\"\".join(map(str,bits[i:i+nB])))\n",
        "\n",
        "decoded_bits = np.array(list(decoded_bits),dtype=int)\n",
        "print(decoded_bits)"
      ],
      "execution_count": null,
      "outputs": [
        {
          "output_type": "stream",
          "name": "stdout",
          "text": [
            "[0 1 1 0 1 0 0 1 0 1 1 0 0 0 1 0 1 0 0 1 0 0 1 0]\n"
          ]
        }
      ]
    }
  ]
}